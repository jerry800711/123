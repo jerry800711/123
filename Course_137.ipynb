{
 "cells": [
  {
   "cell_type": "code",
   "execution_count": 1,
   "metadata": {},
   "outputs": [],
   "source": [
    "from selenium import webdriver\n",
    "driver = webdriver.Chrome('/opt/local/common/chromedriver')"
   ]
  },
  {
   "cell_type": "code",
   "execution_count": 27,
   "metadata": {},
   "outputs": [],
   "source": [
    "#driver.get('https://shopee.tw/?srsltid=AfmBOoqn-x9ga3GkLPdKHRZL2tVReMjRbOQgg6_Jde1onCM4ZgOC9yhT&is_from_login=true')"
   ]
  },
  {
   "cell_type": "code",
   "execution_count": 29,
   "metadata": {},
   "outputs": [],
   "source": [
    "driver.find_element_by_css_selector('btn btn-solid-primary btn--l YuENex').click()"
   ]
  },
  {
   "cell_type": "code",
   "execution_count": 30,
   "metadata": {},
   "outputs": [],
   "source": [
    "driver.find_element_by_css_selector('SHq91i').click()"
   ]
  },
  {
   "cell_type": "code",
   "execution_count": 31,
   "metadata": {},
   "outputs": [],
   "source": [
    "driver.find_element_by_css_selector('product-variation').click()"
   ]
  },
  {
   "cell_type": "code",
   "execution_count": 32,
   "metadata": {},
   "outputs": [
    {
     "data": {
      "text/plain": [
       "<selenium.webdriver.remote.webelement.WebElement (session=\"c3d8f199d5f9a20554077c17a4f0f19b\", element=\"0.8186586120033437-3\")>"
      ]
     },
     "execution_count": 32,
     "metadata": {},
     "output_type": "execute_result"
    }
   ],
   "source": [
    "driver.find_element_by_css_selector('stardust-button stardust-button--primary stardust-button--large LtH6tW')"
   ]
  },
  {
   "cell_type": "code",
   "execution_count": 33,
   "metadata": {},
   "outputs": [],
   "source": [
    "def autoBuy(url):\n",
    "    driver.get(url)\n",
    "    driver.find_element_by_css_selector('btn btn-solid-primary btn--l YuENex').click()\n",
    "    driver.find_element_by_css_selector('SHq91i').click()\n",
    "    driver.find_element_by_css_selector('product-variation').click()\n",
    "    driver.find_element_by_css_selector('stardust-button stardust-button--primary stardust-button--large LtH6tW')"
   ]
  },
  {
   "cell_type": "code",
   "execution_count": 34,
   "metadata": {},
   "outputs": [],
   "source": [
    "autoBuy('https://shopee.tw/POP-MART-%E6%B3%A1%E6%B3%A1%E7%91%AA%E7%89%B9-SKULLPANDA%E8%81%B2%E9%9F%B3%E7%B3%BB%E5%88%97%E6%89%8B%E8%BE%A6%E9%81%93%E5%85%B7%E7%8E%A9%E5%85%B7%E5%88%9B%E6%84%8F%E7%A4%BC%E7%89%A9%E7%9B%B2%E7%9B%92-i.458623340.27603848897?xptdk=78e98eef-a946-4869-ab54-a67116e483dc')"
   ]
  },
  {
   "cell_type": "code",
   "execution_count": null,
   "metadata": {},
   "outputs": [],
   "source": []
  }
 ],
 "metadata": {
  "kernelspec": {
   "display_name": "Python 3",
   "language": "python",
   "name": "python3"
  },
  "language_info": {
   "codemirror_mode": {
    "name": "ipython",
    "version": 3
   },
   "file_extension": ".py",
   "mimetype": "text/x-python",
   "name": "python",
   "nbconvert_exporter": "python",
   "pygments_lexer": "ipython3",
   "version": "3.7.3"
  }
 },
 "nbformat": 4,
 "nbformat_minor": 4
}
